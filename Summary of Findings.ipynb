{
 "cells": [
  {
   "cell_type": "markdown",
   "metadata": {},
   "source": [
    "# Summary of Findings"
   ]
  },
  {
   "cell_type": "markdown",
   "metadata": {},
   "source": [
    "**1. What region of the country has the highest rate of covid cases, covid deaths and heart disease?**\n",
    "- East coast states had higher previous heart disease problems prior to the pandemic, and thus higher number of covid cases and covid deaths in 2020-2022 (possible limitation of data points in states in the middle west might be affecting the results). \n",
    "\n"
   ]
  },
  {
   "cell_type": "markdown",
   "metadata": {},
   "source": [
    "**2. How did covid cases and covid deaths progressed over time?**\n",
    "- COVID cases first lightly spiked in Apr 2020 and then highly increased in Feb 2021. COVID deaths spiked in Apr 2020 and increased slightly since then. This concludes that the proportion of covid deaths to covid cases has decreased over time. One possible explanation is the introduction of the vaccine early 2021. \n",
    "\n",
    "![covid_over_time](covid_over_time.png)"
   ]
  },
  {
   "cell_type": "markdown",
   "metadata": {},
   "source": [
    "\n",
    "**3. How does political affiliation affect vaccination, covid deaths, and heart disease?**\n",
    "- When studying the main differences between the republican and democratic parties, one can see that there is significant differences in terms of vaccination, death rates, income and heart disease.\n",
    "- As seen in the histogram below, republican counties have significantly lower vaccination rates, and therefore higher COVID death rates than the democratic counties. In the boxplots below, it is also visible that republicans have higher rates of heart disease and lower income.\n",
    "\n",
    "![political_t-tests](political_t-tests.png)\n",
    "![political_boxplots](political_boxplots.png)"
   ]
  },
  {
   "cell_type": "markdown",
   "metadata": {},
   "source": [
    "**4. What is the correlation between Median Income, Vaccination Rates and Covid Deaths?**\n",
    "- Looking at the rightmost boxplot, we can see that the median income is not correlated with the number of covid cases (0.23 cases per capita, independently of the median income.\n",
    "![income_v_cases_boxplot](income_v_cases_boxplot.png)"
   ]
  },
  {
   "cell_type": "markdown",
   "metadata": {},
   "source": [
    "- Nevertheless, as observed in the leftmost boxplot, states with high incomes had lower rates of death by covid. Those whose median income range greater than 70K annually had 0.002 deaths per capita compared with 0.0035 for those counties with median income range below 50K.\n",
    "![income_v_deaths_boxplot](income_v_deaths_boxplot.png)"
   ]
  },
  {
   "cell_type": "markdown",
   "metadata": {},
   "source": [
    "**5. How did heart disease rates in the years previous to COVID  affect the number of covid deaths in 2020?**\n",
    "- When accounting for income, high rates of heart disease made you significantly more likely to have an abnormally high rate of death"
   ]
  }
 ],
 "metadata": {
  "kernelspec": {
   "display_name": "Python [conda env:pythondata] *",
   "language": "python",
   "name": "conda-env-pythondata-py"
  },
  "language_info": {
   "codemirror_mode": {
    "name": "ipython",
    "version": 3
   },
   "file_extension": ".py",
   "mimetype": "text/x-python",
   "name": "python",
   "nbconvert_exporter": "python",
   "pygments_lexer": "ipython3",
   "version": "3.6.10"
  }
 },
 "nbformat": 4,
 "nbformat_minor": 4
}
