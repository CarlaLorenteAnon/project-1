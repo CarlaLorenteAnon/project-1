{
 "cells": [
  {
   "cell_type": "markdown",
   "metadata": {},
   "source": [
    "# Summary of Findings"
   ]
  },
  {
   "cell_type": "markdown",
   "metadata": {},
   "source": [
    "**1. What region of the country has the highest rate of covid cases, covid deaths and heart disease?**\n",
    "- East coast states had higher previous heart disease problems prior to the pandemic, and thus higher number of covid cases and covid deaths in 2020-2022 (possible limitation of data points in states in the middle west might be affecting the results)"
   ]
  },
  {
   "cell_type": "markdown",
   "metadata": {},
   "source": [
    "**2. How did covid cases and covid deaths progressed over time?**\n",
    "- COVID cases first lightly spiked in Apr 2020 and then highly increased in Feb 2021. COVID deaths spiked in Apr 2020 and increased slightly since then. This concludes that the proportion of deaths to covid cases has decreased since the introduction of the vaccine early 2021\n"
   ]
  },
  {
   "cell_type": "markdown",
   "metadata": {},
   "source": [
    "\n",
    "**3. How does political affiliation affect vaccination, covid deaths, and heart disease?**\n",
    "- Republican counties have significantly lower vaccination rates, higher rates of heart disease, lower income, and higher COVID death rates\n"
   ]
  },
  {
   "cell_type": "markdown",
   "metadata": {},
   "source": [
    "**4. What is the correlation between Median Income, Vaccination Rates and Covid Deaths?**\n",
    "- States with disparate incomes had similar rates of infection, but vastly different rates of death by covid"
   ]
  },
  {
   "cell_type": "markdown",
   "metadata": {},
   "source": [
    "**5. How did heart disease rates in the years previous to COVID  affect the number of covid deaths in 2020?**\n",
    "- When accounting for income, high rates of heart disease made you significantly more likely to have an abnormally high rate of death"
   ]
  },
  {
   "cell_type": "code",
   "execution_count": null,
   "metadata": {},
   "outputs": [],
   "source": []
  }
 ],
 "metadata": {
  "kernelspec": {
   "display_name": "Python [conda env:pythondata] *",
   "language": "python",
   "name": "conda-env-pythondata-py"
  },
  "language_info": {
   "codemirror_mode": {
    "name": "ipython",
    "version": 3
   },
   "file_extension": ".py",
   "mimetype": "text/x-python",
   "name": "python",
   "nbconvert_exporter": "python",
   "pygments_lexer": "ipython3",
   "version": "3.6.10"
  }
 },
 "nbformat": 4,
 "nbformat_minor": 4
}
