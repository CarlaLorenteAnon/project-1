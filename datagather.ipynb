{
 "cells": [
  {
   "cell_type": "markdown",
   "metadata": {},
   "source": [
    "# Data Gathering, Cleaning, and Exploration"
   ]
  },
  {
   "cell_type": "code",
   "execution_count": 1,
   "metadata": {
    "scrolled": true
   },
   "outputs": [
    {
     "ename": "ImportError",
     "evalue": "cannot import name 'api_key' from 'config' (C:\\Users\\14043\\Downloads\\Newfolder\\lib\\site-packages\\config\\__init__.py)",
     "output_type": "error",
     "traceback": [
      "\u001b[1;31m---------------------------------------------------------------------------\u001b[0m",
      "\u001b[1;31mImportError\u001b[0m                               Traceback (most recent call last)",
      "\u001b[1;32m~\\AppData\\Local\\Temp/ipykernel_26388/375896898.py\u001b[0m in \u001b[0;36m<module>\u001b[1;34m\u001b[0m\n\u001b[0;32m     11\u001b[0m \u001b[1;33m\u001b[0m\u001b[0m\n\u001b[0;32m     12\u001b[0m \u001b[1;31m# Census API Key and config\u001b[0m\u001b[1;33m\u001b[0m\u001b[1;33m\u001b[0m\u001b[0m\n\u001b[1;32m---> 13\u001b[1;33m \u001b[1;32mfrom\u001b[0m \u001b[0mconfig\u001b[0m \u001b[1;32mimport\u001b[0m \u001b[0mapi_key\u001b[0m\u001b[1;33m\u001b[0m\u001b[1;33m\u001b[0m\u001b[0m\n\u001b[0m\u001b[0;32m     14\u001b[0m \u001b[0mc\u001b[0m \u001b[1;33m=\u001b[0m \u001b[0mCensus\u001b[0m\u001b[1;33m(\u001b[0m\u001b[0mapi_key\u001b[0m\u001b[1;33m,\u001b[0m \u001b[0myear\u001b[0m\u001b[1;33m=\u001b[0m\u001b[1;36m2018\u001b[0m\u001b[1;33m)\u001b[0m\u001b[1;33m\u001b[0m\u001b[1;33m\u001b[0m\u001b[0m\n\u001b[0;32m     15\u001b[0m \u001b[1;33m\u001b[0m\u001b[0m\n",
      "\u001b[1;31mImportError\u001b[0m: cannot import name 'api_key' from 'config' (C:\\Users\\14043\\Downloads\\Newfolder\\lib\\site-packages\\config\\__init__.py)"
     ]
    }
   ],
   "source": [
    "# Dependencies\n",
    "import numpy as np\n",
    "import pandas as pd\n",
    "import matplotlib.pyplot as plt\n",
    "import requests\n",
    "from census import Census\n",
    "from scipy import stats\n",
    "#Install cursor dependencies\n",
    "import  mplcursors\n",
    "%matplotlib nbagg\n",
    "\n",
    "# Census API Key and config\n",
    "from config import api_key\n",
    "c = Census(api_key, year=2018)\n",
    "\n",
    "# Dictionary of state abbreviations\n",
    "from us_state_abbrev import us_state_abbrev"
   ]
  },
  {
   "cell_type": "markdown",
   "metadata": {},
   "source": [
    "## Census Data"
   ]
  },
  {
   "cell_type": "code",
   "execution_count": null,
   "metadata": {
    "scrolled": true
   },
   "outputs": [],
   "source": [
    "# Make API calls\n",
    "# See: https://github.com/CommerceDataService/census-wrapper for library documentation\n",
    "# See: https://gist.github.com/afhaque/60558290d6efd892351c4b64e5c01e9b for labels\n",
    "census_data = c.acs5.get((\"NAME\", \"B19013_001E\", \"B01003_001E\", \"B01002_001E\",\n",
    "                          \"B19301_001E\"), {'for': 'county:*'})\n",
    "# CHECK FOR YEAR (2018?)\n",
    "\n",
    "# Convert to DataFrame\n",
    "census_pd = pd.DataFrame(census_data)\n",
    "\n",
    "# Column Reordering/Renaming\n",
    "census_pd = census_pd.rename(columns={\"B01003_001E\": \"Population\",\n",
    "                                      \"B01002_001E\": \"Median Age\",\n",
    "                                      \"B19013_001E\": \"Household Income\",\n",
    "                                      \"B19301_001E\": \"Per Capita Income\",\n",
    "                                      \"NAME\": \"Name\", \"county\": \"County\"})\n",
    "\n",
    "\n"
   ]
  },
  {
   "cell_type": "code",
   "execution_count": null,
   "metadata": {},
   "outputs": [],
   "source": [
    "census = census_pd[[\"County\", \"Name\", \"Population\", \"Median Age\", \"Household Income\", ]].copy()\n",
    "census"
   ]
  },
  {
   "cell_type": "code",
   "execution_count": null,
   "metadata": {
    "scrolled": true
   },
   "outputs": [],
   "source": [
    "# Final DataFrame\n",
    "\n",
    "# Copy and save to csv\n",
    "census = census_pd[[\"County\", \"Name\", \"Population\", \"Median Age\", \"Household Income\"]].copy()\n",
    "census.to_csv(\"resources/census_data.csv\", encoding=\"utf-8\", index=False)\n",
    "\n",
    "# Combine county name with state for later merging\n",
    "census['county'] = census['Name'].str.replace(' County', '').str.replace(' Parish', '')\n",
    "census.drop(['County', 'Name'], axis=1, inplace=True)\n",
    "census.set_index('county', inplace=True)\n",
    "census"
   ]
  },
  {
   "cell_type": "code",
   "execution_count": null,
   "metadata": {},
   "outputs": [],
   "source": [
    "# Summary stats\n",
    "census.describe()"
   ]
  },
  {
   "cell_type": "markdown",
   "metadata": {},
   "source": [
    "## Covid Data"
   ]
  },
  {
   "cell_type": "code",
   "execution_count": null,
   "metadata": {},
   "outputs": [],
   "source": [
    "# Read from csv and combine county and state into one column, then drop unnecessary columns \n",
    "covid = pd.read_csv('resources/covid-statistics.csv')\n",
    "covid['county'] = covid['county'] + ', ' + covid['state']\n",
    "covid.drop(['state', 'fips', 'date'], axis=1, inplace=True)\n",
    "covid"
   ]
  },
  {
   "cell_type": "code",
   "execution_count": null,
   "metadata": {},
   "outputs": [],
   "source": [
    "# Visualizing time dependency of cases and deaths for a particular county\n",
    "fulton = covid[covid['county'] == 'Fulton, Georgia']\n",
    "xs = range(len(fulton))\n",
    "\n",
    "plt.subplot(1, 2, 1)\n",
    "plt.plot(xs, fulton.cases)\n",
    "plt.title('Cases')\n",
    "\n",
    "plt.subplot(1, 2, 2)\n",
    "plt.plot(xs, fulton.deaths)\n",
    "plt.title('Deaths')\n",
    "\n",
    "plt.tight_layout()\n",
    "plt.show()"
   ]
  },
  {
   "cell_type": "code",
   "execution_count": null,
   "metadata": {
    "scrolled": false
   },
   "outputs": [],
   "source": [
    "# Extracting final cumulative cases and deaths per county\n",
    "covid_total = covid.groupby('county').max()\n",
    "covid_total.dropna(inplace=True)\n",
    "covid_total"
   ]
  },
  {
   "cell_type": "code",
   "execution_count": null,
   "metadata": {},
   "outputs": [],
   "source": [
    "# Summary stats\n",
    "covid_total.describe()"
   ]
  },
  {
   "cell_type": "markdown",
   "metadata": {},
   "source": [
    "## General Health Data"
   ]
  },
  {
   "cell_type": "code",
   "execution_count": null,
   "metadata": {
    "scrolled": true
   },
   "outputs": [],
   "source": [
    "# Defining function for cleaning up data from chronicdata.cdc.gov\n",
    "def makehealthcsv(x, colname, boolean_whether_you_want_latitude):\n",
    "    \n",
    "    # Filter\n",
    "    x = x[(x['Stratification1'] == 'Overall') &  (x['Stratification2'] == 'Overall')]\n",
    "    \n",
    "    # Use state abbreviation dictionary and create county name column to be consistent with other dataframes\n",
    "    x = x[x[\"LocationAbbr\"].isin(us_state_abbrev)]\n",
    "    x['county'] = x['LocationDesc'] + ', ' + x['LocationAbbr'].apply(lambda x: us_state_abbrev[x])\n",
    "    x['county'] = x['county'].str.replace(' County', '').str.replace(' Parish', '')\n",
    "    if boolean_whether_you_want_latitude:\n",
    "        x = x[['county','Data_Value', 'Y_lat', 'X_lon']].dropna() #CARLA - Changed 02/03/2022 to add latitude and longitude\n",
    "    else:\n",
    "        x = x[['county','Data_Value']].dropna()\n",
    "    \n",
    "    # Drop missing data, duplicates, and rename column of interest\n",
    "    #x = x[['county','Data_Value', 'Y_lat', 'X_lon']].dropna() #CARLA - Changed 02/03/2022 to add latitude and longitude\n",
    "    x.rename(columns = {'Data_Value' : colname}, inplace=True)\n",
    "    x.drop_duplicates('county', inplace=True)\n",
    "    x.set_index('county', inplace=True)\n",
    "    \n",
    "    return x"
   ]
  },
  {
   "cell_type": "code",
   "execution_count": null,
   "metadata": {
    "scrolled": true
   },
   "outputs": [],
   "source": [
    "# Heart disease data by county\n",
    "heart_disease = makehealthcsv(pd.read_csv(\"resources/Heart-Disease-by-County.csv\"), 'Heart Disease', True)\n",
    "heart_disease"
   ]
  },
  {
   "cell_type": "code",
   "execution_count": null,
   "metadata": {},
   "outputs": [],
   "source": [
    "# Summary stats\n",
    "heart_disease.describe()"
   ]
  },
  {
   "cell_type": "code",
   "execution_count": null,
   "metadata": {},
   "outputs": [],
   "source": [
    "# Stroke data by county\n",
    "stroke = makehealthcsv(pd.read_csv(\"resources/Stroke-by-County.csv\"), 'Stroke', False)\n",
    "stroke"
   ]
  },
  {
   "cell_type": "code",
   "execution_count": null,
   "metadata": {},
   "outputs": [],
   "source": [
    "# Summary stats\n",
    "stroke.describe()"
   ]
  },
  {
   "cell_type": "markdown",
   "metadata": {},
   "source": [
    "## Vaccination Data"
   ]
  },
  {
   "cell_type": "code",
   "execution_count": null,
   "metadata": {},
   "outputs": [],
   "source": [
    "# Read raw csv\n",
    "vaccine_data = pd.read_csv('resources/vaccine_data.csv')\n",
    "vaccine_data"
   ]
  },
  {
   "cell_type": "code",
   "execution_count": null,
   "metadata": {},
   "outputs": [],
   "source": [
    "# Extract final vaccination (two doses) rates \n",
    "vaccine = vaccine_data.groupby(['Recip_County', 'Recip_State'])['Series_Complete_Pop_Pct'].max().reset_index()\n",
    "\n",
    "# Get full county name in format consistent with other dataframes\n",
    "vaccine = vaccine[vaccine[\"Recip_State\"].isin(us_state_abbrev)]\n",
    "vaccine['county'] = vaccine['Recip_County'] + ', ' + vaccine['Recip_State'].apply(lambda x: us_state_abbrev[x])\n",
    "vaccine['county'] = vaccine['county'].str.replace(' County', '').str.replace(' Parish', '')\n",
    "\n",
    "# Drop NaNs, rename column, set index for merging\n",
    "vaccine = vaccine[['county','Series_Complete_Pop_Pct']].dropna()\n",
    "vaccine.rename(columns={'Series_Complete_Pop_Pct': \"Vaccination Rate\"}, inplace=True)\n",
    "vaccine.set_index('county', inplace=True)\n",
    "vaccine"
   ]
  },
  {
   "cell_type": "code",
   "execution_count": null,
   "metadata": {},
   "outputs": [],
   "source": [
    "# Summary stats\n",
    "vaccine.describe()"
   ]
  },
  {
   "cell_type": "markdown",
   "metadata": {},
   "source": [
    "## Election Data"
   ]
  },
  {
   "cell_type": "code",
   "execution_count": null,
   "metadata": {},
   "outputs": [],
   "source": [
    "# Read csv and look at most recent election results by county\n",
    "party = pd.read_csv('resources/election_data.csv')\n",
    "party = party[party['year'] == 2020]\n",
    "\n",
    "# Combine county and state names into sinlge column \n",
    "party['county'] = party['county_name'].str.title() + ', ' + party['state'].str.title()\n",
    "party.drop(columns = ['state', 'state_po', 'county_name', 'county_fips'], inplace=True)\n",
    "party"
   ]
  },
  {
   "cell_type": "code",
   "execution_count": null,
   "metadata": {},
   "outputs": [],
   "source": [
    "# For each county, add up votes and determine winning party\n",
    "# Perhaps cleaner way of doing this but my brain has melted\n",
    "\n",
    "prev_county = party.iloc[0].county\n",
    "parties = {}\n",
    "winners = {}\n",
    "\n",
    "for index, row in party.iterrows():\n",
    "    \n",
    "    # Populate set of parties with corresponding votes\n",
    "    if row['county'] == prev_county:\n",
    "        if row['party'] not in parties:\n",
    "            parties[row['party']] = row['candidatevotes']\n",
    "        else:\n",
    "            parties[row['party']] += row['candidatevotes']\n",
    "        \n",
    "        # Find winner if we reach last row\n",
    "        if index == party.iloc[-1].name:\n",
    "            most_votes = 0\n",
    "            for p in parties:\n",
    "                if parties[p] > most_votes:\n",
    "                    winner = p\n",
    "                    most_votes = parties[p]\n",
    "                \n",
    "            winners[prev_county] = winner\n",
    "    \n",
    "    # Find winner if row is for new county\n",
    "    elif row['county'] != prev_county:\n",
    "        most_votes = 0\n",
    "        for p in parties:\n",
    "            if parties[p] > most_votes:\n",
    "                winner = p\n",
    "                most_votes = parties[p]\n",
    "                \n",
    "        winners[prev_county] = winner\n",
    "        \n",
    "        # Reset vote counts, set new county\n",
    "        parties = {}\n",
    "        prev_county = row['county']\n",
    "        parties[row['party']] = row['candidatevotes']"
   ]
  },
  {
   "cell_type": "code",
   "execution_count": null,
   "metadata": {},
   "outputs": [],
   "source": [
    "# Replace party column with winning party for each county\n",
    "party['party'] = [winners[county] for county in party['county']]\n",
    "\n",
    "# Extract column of interest\n",
    "party_df = party.groupby('county')['party'].max()\n",
    "\n",
    "display(party_df)\n",
    "print(\"Totals:\")\n",
    "display(party_df.value_counts())"
   ]
  },
  {
   "cell_type": "markdown",
   "metadata": {},
   "source": [
    "## Combined Data"
   ]
  },
  {
   "cell_type": "code",
   "execution_count": null,
   "metadata": {},
   "outputs": [],
   "source": [
    "# Concatenate above dataframes \n",
    "merged_df = pd.concat([covid_total, vaccine, census, heart_disease, stroke, party_df], join='inner', axis=1)\n",
    "merged_df.dropna(inplace=True)\n",
    "merged_df.reset_index(inplace=True)\n",
    "\n",
    "# Split county and state name into separate columns for future analysis\n",
    "merged_df[['County','State']] = merged_df.county.str.split(\", \",expand=True)\n",
    "merged_df.drop(columns=['county'], inplace=True)\n",
    "\n",
    "# New columns for cases and death by capita\n",
    "merged_df['Cases per Capita'] = merged_df['cases']/merged_df['Population']\n",
    "merged_df['Deaths per Capita'] = merged_df['deaths']/merged_df['Population']\n",
    "\n",
    "# Rename columns and save to csv\n",
    "merged_df.rename(columns = {'cases' : 'Cases', 'deaths' : 'Deaths', 'party': 'Party'}, inplace=True)\n",
    "merged_df.to_csv('resources/full_data.csv', index=False)\n",
    "\n",
    "# Filtering out very small and large counties by population and save in separate csv\n",
    "merged_df.drop(merged_df.loc[merged_df['Population'] < 20000].index, inplace = True)\n",
    "merged_df.drop(merged_df.loc[merged_df['Population'] > 200000].index, inplace = True)\n",
    "\n",
    "#Carla Additions 02/03/2022 - Drop repetitive lat and long and rename\n",
    "#merged_df.drop([\"Y_lat_x\"], axis = 1, inplace=True)\n",
    "#merged_df.drop([\"X_lon_x\"], axis = 1, inplace=True) \n",
    "merged_df.rename(columns = {'Y_lat' : \"Y_Latitude\"}, inplace = True) \n",
    "merged_df.rename(columns = {'X_lon' : \"X_Longitude\"}, inplace = True) \n",
    "\n",
    "\n",
    "#merged_df.to_csv('resources/data.csv', index=False)\n",
    "\n",
    "merged_df"
   ]
  },
  {
   "cell_type": "code",
   "execution_count": null,
   "metadata": {
    "scrolled": false
   },
   "outputs": [],
   "source": [
    "# Correlation matrix\n",
    "corr = merged_df.corr()\n",
    "corr.style.background_gradient(cmap='coolwarm', axis=None)"
   ]
  },
  {
   "cell_type": "code",
   "execution_count": null,
   "metadata": {},
   "outputs": [],
   "source": [
    "#Sorting through states and relegating to correct region\n",
    "#West Region\n",
    "West_df = merged_df.loc[(merged_df[\"State\"]==\"Washington\") | (merged_df[\"State\"]==\"Oregon\")\n",
    "                        |(merged_df[\"State\"]==\"California\") | (merged_df[\"State\"]==\"Idaho\") \n",
    "                        | (merged_df[\"State\"]==\"Nevada\") | (merged_df[\"State\"]==\"Utah\") \n",
    "                        | (merged_df[\"State\"]==\"Arizona\") | (merged_df[\"State\"]==\"Alaska\") \n",
    "                        | (merged_df[\"State\"]==\"Hawaii\"),:]\n",
    "\n",
    "#Plains Region\n",
    "Plains_df = merged_df.loc[(merged_df[\"State\"]==\"Montana\") | (merged_df[\"State\"]==\"North Dakota\")\n",
    "                        |(merged_df[\"State\"]==\"South Dakota\") | (merged_df[\"State\"]==\"Wyoming\") \n",
    "                        | (merged_df[\"State\"]==\"Nebraska\") | (merged_df[\"State\"]==\"Colorado\") \n",
    "                        | (merged_df[\"State\"]==\"Oklahoma\") | (merged_df[\"State\"]==\"Kansas\") \n",
    "                        | (merged_df[\"State\"]==\"Texas\") | (merged_df[\"State\"]==\"New Mexico\"),:]\n",
    "\n",
    "#Midwest Region\n",
    "Midwest_df = merged_df.loc[(merged_df[\"State\"]==\"Minnesota\") | (merged_df[\"State\"]==\"Wisconsin\")\n",
    "                        |(merged_df[\"State\"]==\"Michigan\") | (merged_df[\"State\"]==\"Iowa\") \n",
    "                        | (merged_df[\"State\"]==\"Illinois\") | (merged_df[\"State\"]==\"Indiana\") \n",
    "                        | (merged_df[\"State\"]==\"Ohio\") | (merged_df[\"State\"]==\"Missouri\") \n",
    "                        | (merged_df[\"State\"]==\"Kentucky\"),:]\n",
    "\n",
    "#Southeast Region\n",
    "Southeast_df = merged_df.loc[(merged_df[\"State\"]==\"Arkansas\") | (merged_df[\"State\"]==\"Louisiana\")\n",
    "                        |(merged_df[\"State\"]==\"Tennessee\") | (merged_df[\"State\"]==\"Mississippi\") \n",
    "                        | (merged_df[\"State\"]==\"Alabama\") | (merged_df[\"State\"]==\"Georgia\") \n",
    "                        | (merged_df[\"State\"]==\"Florida\") | (merged_df[\"State\"]==\"North Carolina\") \n",
    "                        | (merged_df[\"State\"]==\"South Carolina\"),:]\n",
    "#Northeast Region of US\n",
    "Northeast_df = merged_df.loc[(merged_df[\"State\"]==\"Maine\") | (merged_df[\"State\"]==\"New Hampshire\")\n",
    "                        |(merged_df[\"State\"]==\"Vermont\") | (merged_df[\"State\"]==\"New York\") \n",
    "                        | (merged_df[\"State\"]==\"Massachusetts\") | (merged_df[\"State\"]==\"Connecticut\") \n",
    "                        | (merged_df[\"State\"]==\"Rhode Island\") | (merged_df[\"State\"]==\"New Jersey\") \n",
    "                        | (merged_df[\"State\"]==\"Pennsylvania\") | (merged_df[\"State\"]==\"Delaware\") \n",
    "                        | (merged_df[\"State\"]==\"West Virginia\") | (merged_df[\"State\"]==\"Virginia\")\n",
    "                        | (merged_df[\"State\"]==\"Maryland\"),:]\n",
    "\n",
    "#labels\n",
    "West = [\"Washington\",\"Oregon\",\"California\",\"Idaho\",\"Nevada\",\"Utah\",\"Arizona\",\"Alaska\",\"Hawaii\"]\n",
    "Plains = [\"Montana\",\"North Dakota\",\"South Dakota\",\"Wyoming\",\"Nebraska\",\"Colorado\",\"Oklahoma\",\"Kansas\",\"Texas\",\"New Mexico\"]\n",
    "Midwest = [\"Minnesota\",\"Wisconsin\",\"Michigan\",\"Iowa\",\"Illinois\",\"Indiana\",\"Ohio\",\"Missouri\",\"Kentucky\"]\n",
    "Southeast = [\"Arkanas\",\"Louisiana\",\"Tennessee\",\"Mississippi\",\"Alabama\",\"Georgia\",\"Florida\",\"North Carolina\",\"South Carolina\"]\n",
    "Northeast = [\"Maine\",\"New Hampshire\",\"Vermont\",\"New York\",\"Massachusetts\",\"Connecticut\",\"Rhode Island\",\n",
    "             \"New Jersey\",\"Pennsylvania\",\"Delaware\",\"West Virginia\",\"Virginia\",\"Maryland\"]"
   ]
  },
  {
   "cell_type": "code",
   "execution_count": null,
   "metadata": {},
   "outputs": [],
   "source": [
    "#Variables\n",
    "West_co = West_df[\"County\"]\n",
    "West_pop = West_df[\"Population\"]\n",
    "West_cases = West_df[\"Cases\"]\n",
    "West_heart = West_df[\"Heart Disease\"]\n",
    "West_cap = West_df[\"Deaths per Capita\"]\n",
    "\n",
    "#Plot Graph\n",
    "plt.figure(figsize=(10,8))\n",
    "plt.ylabel(\"Population\")\n",
    "Scatter = plt.scatter(West_co, West_pop,s=100,\n",
    "            c=West_df.State.astype('category').cat.codes)\n",
    "mplcursors.cursor(Scatter,hover=True)\n",
    "plt.legend(loc=\"lower center\", bbox_to_anchor=(.50, -0.12), ncol= 4, handles=Scatter.legend_elements()[0], \n",
    "           labels=West,\n",
    "           title=\"State\")\n",
    "Scatter.axes.get_xaxis().set_visible(False)\n",
    "plt.title(\"United States Region: West | County versus Population\")\n",
    "\n",
    "#Deaths per capita\n",
    "#Plot Graph\n",
    "plt.figure(figsize=(10,8))\n",
    "plt.xlabel(\"Cases of Covid\")\n",
    "plt.ylabel(\"Deaths per Capita\")\n",
    "Scatter2 = plt.scatter(West_cases, West_cap,s=West_heart*.3,\n",
    "            c=West_df.State.astype('category').cat.codes)\n",
    "#Hover Event\n",
    "mplcursors.cursor(Scatter2, hover=True)\n",
    "plt.legend(loc=\"upper right\", ncol= 2, handles=Scatter2.legend_elements()[0], \n",
    "           labels=West,\n",
    "           title=\"State\")\n",
    "plt.title(\"Region: West | Deaths per Capita versus Covid Cases in Relation to Heart Disease\")\n",
    "print(\"This graph shows the deaths per capita and covid cases recorded by each county. The marker point sizes vary due to the number of instances of heart disease recorded.\")"
   ]
  },
  {
   "cell_type": "code",
   "execution_count": null,
   "metadata": {},
   "outputs": [],
   "source": [
    "#Variables\n",
    "Plains_co = Plains_df[\"County\"]\n",
    "Plains_pop = Plains_df[\"Population\"]\n",
    "Plains_cases = Plains_df[\"Cases\"]\n",
    "Plains_heart = Plains_df[\"Heart Disease\"]\n",
    "Plains_cap = Plains_df[\"Deaths per Capita\"]\n",
    "\n",
    "#Plot Graph for County and population size\n",
    "plt.figure(figsize=(8,8))\n",
    "plt.ylabel(\"Population\")\n",
    "Scatter = plt.scatter(Plains_co, Plains_pop,s=100,\n",
    "            c=Plains_df.State.astype('category').cat.codes)\n",
    "Scatter.axes.get_xaxis().set_visible(False)\n",
    "mplcursors.cursor(Scatter, hover=True)\n",
    "plt.title(\"United States Region: Plains | County versus Population\")\n",
    "plt.legend(loc=\"lower center\", bbox_to_anchor=(.50, -0.15), ncol= 4, handles=Scatter.legend_elements()[0], \n",
    "           labels=Plains,\n",
    "           title=\"State\")\n",
    "\n",
    "#Plot Graph\n",
    "plt.figure(figsize=(10,8))\n",
    "plt.xlabel(\"Cases of Covid\")\n",
    "plt.ylabel(\"Deaths per Capita\")\n",
    "Scatter2 = plt.scatter(Plains_cases, Plains_cap,s=Plains_heart*.3,\n",
    "            c=Plains_df.State.astype('category').cat.codes)\n",
    "#Hover Event\n",
    "mplcursors.cursor(Scatter2, hover=True)\n",
    "plt.legend(loc=\"upper right\", ncol= 2, handles=Scatter2.legend_elements()[0], \n",
    "           labels=West,\n",
    "           title=\"State\")\n",
    "plt.title(\"Region: Plains | Deaths per Capita versus Covid Cases in Relation to Heart Disease\")\n",
    "print(\"This graph shows the deaths per capita and covid cases recorded by each county. The marker point sizes vary due to the number of instances of heart disease recorded.\")"
   ]
  },
  {
   "cell_type": "code",
   "execution_count": null,
   "metadata": {},
   "outputs": [],
   "source": [
    "#Variables\n",
    "Midwest_co = Midwest_df[\"County\"]\n",
    "Midwest_pop = Midwest_df[\"Population\"]\n",
    "Midwest_cases = Midwest_df[\"Cases\"]\n",
    "Midwest_heart = Midwest_df[\"Heart Disease\"]\n",
    "Midwest_cap = Midwest_df[\"Deaths per Capita\"]\n",
    "\n",
    "#Plot Graph\n",
    "plt.figure(figsize=(10,8))\n",
    "plt.ylabel(\"Population\")\n",
    "Scatter = plt.scatter(Midwest_co, Midwest_pop,s=100,\n",
    "            c=Midwest_df.State.astype('category').cat.codes)\n",
    "mplcursors.cursor(Scatter, hover=True)\n",
    "plt.legend(loc=\"lower center\", bbox_to_anchor=(.50, -0.15), ncol= 4, handles=Scatter.legend_elements()[0], \n",
    "           labels=Midwest,\n",
    "           title=\"State\")\n",
    "Scatter.axes.get_xaxis().set_visible(False)\n",
    "plt.title(\"United States Region: Midwest | County versus Population\")\n",
    "\n",
    "#Plot Graph\n",
    "plt.figure(figsize=(10,8))\n",
    "plt.xlabel(\"Cases of Covid\")\n",
    "plt.ylabel(\"Deaths per Capita\")\n",
    "Scatter2 = plt.scatter(Midwest_cases, Midwest_cap,s=Midwest_heart*.3,\n",
    "            c=Midwest_df.State.astype('category').cat.codes)\n",
    "#Hover Event\n",
    "mplcursors.cursor(Scatter2, hover=True)\n",
    "plt.legend(loc=\"upper right\", ncol= 2, handles=Scatter2.legend_elements()[0], \n",
    "           labels=Midwest,\n",
    "           title=\"State\")\n",
    "plt.title(\"Region: Midwest | Deaths per Capita versus Covid Cases in Relation to Heart Disease\")\n",
    "print(\"This graph shows the deaths per capita and covid cases recorded by each county. The marker point sizes vary due to the number of instances of heart disease recorded.\")"
   ]
  },
  {
   "cell_type": "code",
   "execution_count": null,
   "metadata": {
    "scrolled": false
   },
   "outputs": [],
   "source": [
    "#Variables\n",
    "Southeast_co = Southeast_df[\"County\"]\n",
    "Southeast_pop = Southeast_df[\"Population\"]\n",
    "Southeast_cases = Southeast_df[\"Cases\"]\n",
    "Southeast_heart = Southeast_df[\"Heart Disease\"]\n",
    "Southeast_cap = Southeast_df[\"Deaths per Capita\"]\n",
    "\n",
    "#Plot Graph\n",
    "plt.figure(figsize=(10,8))\n",
    "plt.ylabel(\"Population\")\n",
    "Scatter = plt.scatter(Southeast_co, Southeast_pop,s=100,\n",
    "            c=Southeast_df.State.astype('category').cat.codes)\n",
    "mplcursors.cursor(Scatter, hover=True)\n",
    "plt.legend(loc=\"lower center\",bbox_to_anchor=(.50, -0.15), ncol= 4, handles=Scatter.legend_elements()[0], \n",
    "           labels=Southeast,\n",
    "           title=\"State\")\n",
    "Scatter.axes.get_xaxis().set_visible(False)\n",
    "plt.title(\"United States Region: Southeast | County versus Population\")\n",
    "\n",
    "#Plot Graph\n",
    "plt.figure(figsize=(10,8))\n",
    "plt.xlabel(\"Cases of Covid\")\n",
    "plt.ylabel(\"Deaths per Capita\")\n",
    "Scatter2 = plt.scatter(Southeast_cases, Southeast_cap,s=Southeast_heart*.3,\n",
    "            c=Southeast_df.State.astype('category').cat.codes)\n",
    "#Hover Event\n",
    "mplcursors.cursor(Scatter2, hover=True)\n",
    "plt.legend(loc=\"upper right\", ncol= 2, handles=Scatter2.legend_elements()[0], \n",
    "           labels=Southeast,\n",
    "           title=\"State\")\n",
    "plt.title(\"Region: Southeast | Deaths per Capita versus Covid Cases in Relation to Heart Disease\")\n",
    "print(\"This graph shows the deaths per capita and covid cases recorded by each county. The marker point sizes vary due to the number of instances of heart disease recorded.\")"
   ]
  },
  {
   "cell_type": "code",
   "execution_count": null,
   "metadata": {
    "scrolled": false
   },
   "outputs": [],
   "source": [
    "#Variables\n",
    "Northeast_co = Northeast_df[\"County\"]\n",
    "Northeast_pop = Northeast_df[\"Population\"]\n",
    "Northeast_cases = Northeast_df[\"Cases\"]\n",
    "Northeast_heart = Northeast_df[\"Heart Disease\"]\n",
    "Northeast_cap = Northeast_df[\"Deaths per Capita\"]\n",
    "\n",
    "#Plot Graph\n",
    "plt.figure(figsize=(10,8))\n",
    "plt.ylabel(\"Population\")\n",
    "Scatter = plt.scatter(Northeast_co, Northeast_pop,s=100,\n",
    "            c=Northeast_df.State.astype('category').cat.codes)\n",
    "#Hover Event\n",
    "mplcursors.cursor(Scatter, hover=True)\n",
    "plt.legend(loc=\"lower center\",bbox_to_anchor=(.50, -0.15), ncol= 4, handles=Scatter.legend_elements()[0], \n",
    "           labels=Northeast,\n",
    "           title=\"State\")\n",
    "Scatter.axes.get_xaxis().set_visible(False)\n",
    "plt.title(\"United States Region: Northeast | County versus Population\")\n",
    "\n",
    "#Plot Graph\n",
    "plt.figure(figsize=(10,8))\n",
    "plt.xlabel(\"Cases of Covid\")\n",
    "plt.ylabel(\"Deaths per Capita\")\n",
    "Scatter2 = plt.scatter(Northeast_cases, Northeast_cap,s=Northeast_heart*.5,\n",
    "            c=Northeast_df.State.astype('category').cat.codes)\n",
    "#Hover Event\n",
    "mplcursors.cursor(Scatter2, hover=True)\n",
    "plt.legend(loc=\"upper right\", ncol= 2, handles=Scatter2.legend_elements()[0], \n",
    "           labels=Northeast,\n",
    "           title=\"State\")\n",
    "plt.title(\"Region: Northeast | Deaths per Capita versus Covid Cases in Relation to Heart Disease\")\n",
    "print(\"This graph shows the deaths per capita and covid cases recorded by each county. The marker point sizes vary due to the number of instances of heart disease recorded.\")"
   ]
  },
  {
   "cell_type": "code",
   "execution_count": null,
   "metadata": {},
   "outputs": [],
   "source": [
    "# Compare political affiliations\n",
    "reds = merged_df[merged_df['Party'] == 'REPUBLICAN']['Deaths per Capita']\n",
    "blues = merged_df[merged_df['Party'] == 'DEMOCRAT']['Deaths per Capita']\n",
    "\n",
    "plt.boxplot([reds, blues], labels=['RED', 'BLUE'])\n",
    "plt.show()\n",
    "\n",
    "stats.ttest_ind(reds, blues)"
   ]
  },
  {
   "cell_type": "code",
   "execution_count": null,
   "metadata": {},
   "outputs": [],
   "source": [
    "#Takes axis and col names, r=True puts r-value in legend, by default it doesn't, xunit/yunit add unit to labels\n",
    "def makescatter(ax, col1, col2, r=False, xunit='', yunit=''):\n",
    "    xs = merged_df[col1]\n",
    "    ys = merged_df[col2]\n",
    "    (m, b, rvalue, p, q) = stats.linregress(xs, ys)\n",
    "    regress = [m*x + b for x in xs]\n",
    "    ax.scatter(xs, ys)\n",
    "    ax.plot(xs, regress, 'r-', label=round(rvalue**2, 3))\n",
    "    if xunit:\n",
    "        col1 += f' ({xunit})'\n",
    "    if yunit:\n",
    "        col2 += f' ({yunit})'\n",
    "    ax.set_xlabel(col1)\n",
    "    ax.set_ylabel(col2)\n",
    "    ax.set_title(col1 + ' versus ' + col2)\n",
    "    if r:\n",
    "        ax.legend()\n",
    "    return"
   ]
  },
  {
   "cell_type": "code",
   "execution_count": null,
   "metadata": {
    "scrolled": false
   },
   "outputs": [],
   "source": [
    "#plotting 1 plot, no extra stuff\n",
    "fig, ax1 = plt.subplots(1,1)\n",
    "\n",
    "makescatter(ax1, 'Deaths per Capita', 'Household Income')\n"
   ]
  },
  {
   "cell_type": "code",
   "execution_count": null,
   "metadata": {},
   "outputs": [],
   "source": [
    "#plotting 1 plot, with rvalue and yunit and figsize corrected\n",
    "fig, ax1 = plt.subplots(1,1, figsize=(7,6))\n",
    "\n",
    "makescatter(ax1, 'Deaths per Capita', 'Household Income', r=True, yunit='USD')\n"
   ]
  },
  {
   "cell_type": "code",
   "execution_count": null,
   "metadata": {},
   "outputs": [],
   "source": [
    "#plotting 2 plots\n",
    "\n",
    "fig, (ax1, ax2) = plt.subplots(1,2, figsize=(15,8))\n",
    "\n",
    "makescatter(ax1, 'Deaths per Capita', 'Household Income', yunit='USD')\n",
    "\n",
    "makescatter(ax2, 'Heart Disease', 'Deaths per Capita', xunit='Per 100,000', r=True)\n"
   ]
  },
  {
   "cell_type": "markdown",
   "metadata": {},
   "source": [
    "## Boxplots"
   ]
  },
  {
   "cell_type": "markdown",
   "metadata": {},
   "source": [
    "## Boxplot for Deaths per Capita"
   ]
  },
  {
   "cell_type": "code",
   "execution_count": null,
   "metadata": {},
   "outputs": [],
   "source": [
    "#Divide states in 2 by alphabetical order\n",
    "first_half_states = merged_df[merged_df[\"State\"].str[0] <= \"M\"] #Select those states whose first letter <= \"M\"\n",
    "second_half_states= merged_df[merged_df[\"State\"].str[0] > \"M\"] #Select those states whose first letter > \"M\""
   ]
  },
  {
   "cell_type": "code",
   "execution_count": null,
   "metadata": {},
   "outputs": [],
   "source": [
    "def create_vertical_box_plot(figsize,title,df1,df2,column,by,ylabel_1,ylabel_2):\n",
    "    fig, (ax1, ax2) = plt.subplots(2,1, figsize=(15,8))\n",
    "    \n",
    "    df1.boxplot(ax = ax1,column = column, by=by, rot = 90); #figsize=(20,10)\n",
    "    ax1.set_title(ylabel_1, fontsize = 12);\n",
    "\n",
    "    df2.boxplot(ax = ax2,column =column, by=by, rot = 90);\n",
    "    ax2.set_title(ylabel_2, fontsize = 12);\n",
    "    \n",
    "    fig.tight_layout(pad = 3) #separation between boxplots\n",
    "    fig.suptitle(title, fontsize = 20, fontweight = \"bold\")\n",
    "    return"
   ]
  },
  {
   "cell_type": "code",
   "execution_count": null,
   "metadata": {},
   "outputs": [],
   "source": [
    "#Create box plot deaths per capita calling function above\n",
    "create_vertical_box_plot((20,10),\"Deaths per Capita by State\",first_half_states, second_half_states, \"Deaths per Capita\",\"State\", \"Deaths per Capita for States A though M\", \"Deaths per Capita for states N through Z\")"
   ]
  },
  {
   "cell_type": "markdown",
   "metadata": {},
   "source": [
    "## Box plot for Cases by Capita"
   ]
  },
  {
   "cell_type": "code",
   "execution_count": null,
   "metadata": {},
   "outputs": [],
   "source": [
    "create_vertical_box_plot((20,10),\"Cases per Capita by State\",first_half_states,second_half_states,\"Cases per Capita\",\"State\",\"Cases per Capita for States A through M\",\"Cases per Capita for States N through Z\");"
   ]
  },
  {
   "cell_type": "markdown",
   "metadata": {},
   "source": [
    "## Heat Maps"
   ]
  },
  {
   "cell_type": "code",
   "execution_count": null,
   "metadata": {},
   "outputs": [],
   "source": [
    "#import dependencies\n",
    "import requests\n",
    "import gmaps\n",
    "import os\n",
    "\n",
    "# Import API key\n",
    "from api_keys import g_key\n",
    "gmaps.configure(api_key = g_key)"
   ]
  },
  {
   "cell_type": "code",
   "execution_count": null,
   "metadata": {},
   "outputs": [],
   "source": [
    "#Select those states with Highest number of Cases per Capita\n",
    "#Sort Descending by Cases per Capita\n",
    "sorted_df_by_cases = merged_df.sort_values(by=[\"Cases per Capita\"], ascending=False,ignore_index = True).head(5)\n",
    "\n",
    "#create locations for heatmap\n",
    "locations_sorted_df_by_cases = sorted_df_by_cases[[\"Y_Latitude\", \"X_Longitude\"]]\n",
    "\n",
    "#shocase the df\n",
    "sorted_df_by_cases"
   ]
  },
  {
   "cell_type": "code",
   "execution_count": null,
   "metadata": {},
   "outputs": [],
   "source": [
    "#Select those states with Highest number of Deaths per Capita\n",
    "#Sort Descending by Cases per Capita\n",
    "sorted_df_by_deaths = merged_df.sort_values(by=[\"Deaths per Capita\"], ascending=False, ignore_index = True).head(5)\n",
    "\n",
    "#create locations and info for box templaye for heatmap\n",
    "locations_sorted_df_by_deaths = sorted_df_by_deaths[[\"Y_Latitude\", \"X_Longitude\"]]\n",
    "\n",
    "\n",
    "#shocase the df\n",
    "sorted_df_by_deaths"
   ]
  },
  {
   "cell_type": "code",
   "execution_count": null,
   "metadata": {},
   "outputs": [],
   "source": [
    "# Using the template add the County/State to the heatmap\n",
    "info_box_template_cases_per_capita = \"\"\"\n",
    "<dl>\n",
    "<dt>County</dt><dd>{County}</dd>\n",
    "<dt>State</dt><dd>{State}</dd>\n",
    "<dt>Cases per Capita</dt><dd>{Cases per Capita}</dd>\n",
    "</dl>\n",
    "\"\"\"\n",
    "\n",
    "box_template_cases = [info_box_template_cases_per_capita.format(**row) for index, row in sorted_df_by_cases.iterrows()]"
   ]
  },
  {
   "cell_type": "code",
   "execution_count": null,
   "metadata": {},
   "outputs": [],
   "source": [
    "# Using the template add the County/State to the heatmap\n",
    "info_box_template_deaths_per_capita = \"\"\"\n",
    "<dl>\n",
    "<dt>County</dt><dd>{County}</dd>\n",
    "<dt>State</dt><dd>{State}</dd>\n",
    "<dt>Deaths per Capita</dt><dd>{Deaths per Capita}</dd>\n",
    "</dl>\n",
    "\"\"\"\n",
    "\n",
    "box_template_deaths = [info_box_template_deaths_per_capita.format(**row) for index, row in sorted_df_by_deaths.iterrows()]"
   ]
  },
  {
   "cell_type": "code",
   "execution_count": null,
   "metadata": {},
   "outputs": [],
   "source": [
    "def create_map(weights, max_intensity, locations_for_marker_layer, info_box_for_marker_layer, locations_for_symbol_layer, info_box_for_symbol_layer):\n",
    "    figure = gmaps.figure()\n",
    "    locations = merged_df[[\"Y_Latitude\", \"X_Longitude\"]]\n",
    "    heat_layer = gmaps.heatmap_layer(locations, weights = weights, dissipating = False, max_intensity = max_intensity,point_radius = 0.3)\n",
    "    figure.add_layer(heat_layer)\n",
    "    # Add marker layer ontop of heat map\n",
    "    markers = gmaps.marker_layer(locations_sorted_df_by_cases, info_box_content = info_box_for_marker_layer)\n",
    "    figure.add_layer(markers)\n",
    "    symbol_layer = gmaps.symbol_layer(locations_for_symbol_layer, info_box_content=info_box_for_symbol_layer)\n",
    "    figure.add_layer(symbol_layer)\n",
    "\n",
    "    return figure"
   ]
  },
  {
   "cell_type": "code",
   "execution_count": null,
   "metadata": {},
   "outputs": [],
   "source": [
    "figure1 = create_map(merged_df[\"Heart Disease\"], 600, locations_sorted_df_by_cases, box_template_cases,locations_sorted_df_by_deaths,box_template_deaths)\n",
    "figure1"
   ]
  },
  {
   "cell_type": "code",
   "execution_count": null,
   "metadata": {},
   "outputs": [],
   "source": [
    "figure2 = create_map(merged_df[\"Stroke\"], 0.1, locations_sorted_df_by_cases, info_box_template_cases_per_capita,locations_sorted_df_by_deaths,info_box_template_deaths_per_capita)\n",
    "figure2"
   ]
  },
  {
   "cell_type": "markdown",
   "metadata": {},
   "source": [
    "# COVID Cases Per Day"
   ]
  },
  {
   "cell_type": "code",
   "execution_count": null,
   "metadata": {},
   "outputs": [],
   "source": [
    "covid_df = pd.read_csv('resources/covid-statistics.csv')\n",
    "covid_df.head(5)"
   ]
  },
  {
   "cell_type": "code",
   "execution_count": null,
   "metadata": {},
   "outputs": [],
   "source": [
    "covid_df[\"date\"] = pd.to_datetime(covid_df[\"date\"])"
   ]
  },
  {
   "cell_type": "code",
   "execution_count": null,
   "metadata": {},
   "outputs": [],
   "source": [
    "date = covid_df[\"date\"]\n",
    "covid_cases = covid_df[\"cases\"]\n",
    "covid_deaths = covid_df[\"deaths\"]\n",
    "\n",
    "fig, (ax1,ax2) = plt.subplots(2,1,figsize=(15, 10),sharex = True) #removed sharey = True\n",
    "\n",
    "ax1.plot(date, covid_cases)\n",
    "ax1.set_ylabel(\"Covid Cases\", fontsize = 16)\n",
    "\n",
    "ax2.plot(date, covid_deaths);\n",
    "ax2.set_ylabel(\"Covid Deaths\", fontsize = 16)\n",
    "ax2.set_xlabel(\"Date\", fontsize = 16)\n",
    "\n",
    "fig.suptitle('Covid Accross Time', fontsize=16)\n",
    "fig.tight_layout(pad = 3) #separation between boxplots"
   ]
  }
 ],
 "metadata": {
  "kernelspec": {
   "display_name": "Python 3 (ipykernel)",
   "language": "python",
   "name": "python3"
  },
  "language_info": {
   "codemirror_mode": {
    "name": "ipython",
    "version": 3
   },
   "file_extension": ".py",
   "mimetype": "text/x-python",
   "name": "python",
   "nbconvert_exporter": "python",
   "pygments_lexer": "ipython3",
   "version": "3.9.7"
  }
 },
 "nbformat": 4,
 "nbformat_minor": 4
}
